{
  "nbformat": 4,
  "nbformat_minor": 0,
  "metadata": {
    "colab": {
      "provenance": [],
      "authorship_tag": "ABX9TyMm60Np98MLEvdBPYaCSu1i",
      "include_colab_link": true
    },
    "kernelspec": {
      "name": "python3",
      "display_name": "Python 3"
    },
    "language_info": {
      "name": "python"
    }
  },
  "cells": [
    {
      "cell_type": "markdown",
      "metadata": {
        "id": "view-in-github",
        "colab_type": "text"
      },
      "source": [
        "<a href=\"https://colab.research.google.com/github/DevdBrenno/Guia-Python/blob/main/Python_N%C3%A3o_t%C3%A3o_B%C3%A1sico_.ipynb\" target=\"_parent\"><img src=\"https://colab.research.google.com/assets/colab-badge.svg\" alt=\"Open In Colab\"/></a>"
      ]
    },
    {
      "cell_type": "code",
      "source": [
        "word_secret = 'Pamonha'\n",
        "guessed_word = ''\n",
        "\n",
        "phrase = f'A palavra secreta {\"*\"*len(word_secret)} possui {len(word_secret)} letras'\n",
        "print(phrase)\n",
        "\n",
        "while True:\n",
        "    leter = input('Digite uma letra para adivinhar a palavra secreta: ')\n",
        "\n",
        "    try:\n",
        "        if len(leter) != 1 or not leter.isalpha():\n",
        "            print('Por favor! Digite apenas uma letra.')\n",
        "            continue\n",
        "    except:\n",
        "        print('Ocorreu um erro! Tente novamente')\n",
        "        continue\n",
        "\n",
        "    if leter in word_secret:\n",
        "        guessed_word = ''.join(leter if leter == char else current_char for char, current_char in zip(word_secret, guessed_word))\n",
        "        print('Palavra:', guessed_word)\n",
        "\n",
        "        if '*' not in guessed_word:\n",
        "            print(f'Parabéns! A palavra secreta é {word_secret}. Você acertou!')\n",
        "            break\n",
        "    else:\n",
        "        print('Letra incorreta. Tente novamente.')\n"
      ],
      "metadata": {
        "colab": {
          "base_uri": "https://localhost:8080/"
        },
        "id": "PnFoe-QSVDxT",
        "outputId": "82f1152e-8641-4ddf-ac00-899db233e332"
      },
      "execution_count": null,
      "outputs": [
        {
          "output_type": "stream",
          "name": "stdout",
          "text": [
            "A palavra secreta ******* possui 7 letras\n",
            "Digite uma letra para adivinhar a palavra secreta: P\n",
            "Palavra: \n",
            "Parabéns! A palavra secreta é Pamonha. Você acertou!\n"
          ]
        }
      ]
    },
    {
      "cell_type": "code",
      "source": [
        "if leter in word_secret:\n",
        "  leter_word += leter\n",
        "  #print(leter_word)\n",
        "  word = f'{\"*\"*len(word_secret)}'\n",
        "else:\n",
        "  ..."
      ],
      "metadata": {
        "id": "sQ5Jfmu9VpHu"
      },
      "execution_count": null,
      "outputs": []
    },
    {
      "cell_type": "code",
      "source": [
        "import random\n",
        "\n",
        "def escolher_palavra():\n",
        "    palavras = [\"python\", \"java\", \"javascript\", \"html\", \"css\", \"ruby\"]\n",
        "    return random.choice(palavras)\n",
        "\n",
        "def exibir_palavra(palavra, letras_corretas):\n",
        "    exibicao = \"\"\n",
        "    for letra in palavra:\n",
        "        if letra in letras_corretas:\n",
        "            exibicao += letra\n",
        "        else:\n",
        "            exibicao += \"*\"\n",
        "    return exibicao\n",
        "\n",
        "def jogo_adivinhacao():\n",
        "    palavra_secreta = escolher_palavra()\n",
        "    letras_corretas = []\n",
        "    tentativas = 0\n",
        "\n",
        "    print(\"Bem-vindo ao Jogo de Adivinhação de Palavras!\")\n",
        "    print(exibir_palavra(palavra_secreta, letras_corretas))\n",
        "\n",
        "    while True:\n",
        "        letra = input(\"Digite uma letra: \").lower()\n",
        "\n",
        "        if len(letra) != 1 or not letra.isalpha():\n",
        "            print(\"Por favor, digite apenas uma letra.\")\n",
        "            continue\n",
        "\n",
        "        if letra in letras_corretas:\n",
        "            print(\"Você já tentou essa letra. Tente novamente.\")\n",
        "            continue\n",
        "\n",
        "        if letra in palavra_secreta:\n",
        "            letras_corretas.append(letra)\n",
        "            print(\"Letra correta!\")\n",
        "        else:\n",
        "            tentativas += 1\n",
        "            print(\"Letra incorreta. Tente novamente.\")\n",
        "\n",
        "        exibicao_atual = exibir_palavra(palavra_secreta, letras_corretas)\n",
        "        print(exibicao_atual)\n",
        "\n",
        "        if \"*\" not in exibicao_atual:\n",
        "            print(f\"Parabéns! Você adivinhou a palavra '{palavra_secreta}' em {tentativas} tentativas.\")\n",
        "            break\n",
        "\n",
        "    print(\"Obrigado por jogar!\")\n",
        "\n",
        "# Iniciar o jogo\n",
        "jogo_adivinhacao()"
      ],
      "metadata": {
        "id": "Ed_rymTtYTGd"
      },
      "execution_count": null,
      "outputs": []
    },
    {
      "cell_type": "markdown",
      "source": [
        "# Intruções - Break(Quebra), Cintinue(Continuação) e Pass(Passagem)\n",
        "O **BREAK** possui a função de parar a execução do looping. Dessa forma, quando uma condição for atendida, e essa contiver o comando 'break' o mesmo irá 'quebrar', 'interromper' e/ou 'pausar' o loop.\n",
        "for condição:\n",
        "    if condicao:\n",
        "        break; # Sairá do loop for\n",
        "        comando # Será ignorado\n",
        "\n",
        "O **CONTINUE**, não finaliza o laço não é terminado, porém, ele pula do continue pro início do laço, tudo que tem ali em diante do continue não é mais executado.\n",
        "for condição:\n",
        "    if condicao:\n",
        "        continue; # Igora os comandos posteriores e pula para o ínicio do loop;\n",
        "        comando # será ignorado\n",
        "\n",
        "A instrução **PASS** é utilizada quando queremos um código vazio, em que a mesma não realiza nada de específico.\n",
        "While condição:\n",
        "    pass;\n"
      ],
      "metadata": {
        "id": "J86u2DY2Wa-k"
      }
    },
    {
      "cell_type": "code",
      "source": [
        "# Break:\n",
        "Nomes = ['Ana', 'Maria', 'Julia', 'Luana', 'Lucas']\n",
        "print('Uso do break:')\n",
        "for nome in Nomes:\n",
        "  if nome == 'Lucas':# Obs.: A verificação está sendo feita antes da impressão p/ que o nome seja impresso\n",
        "    break; # Faz com que o loop seja 'quebrado'\n",
        "  # Impressão dos nomes\n",
        "  print(nome)\n",
        "\n",
        "# Continue:\n",
        "print('\\nUsando o continue:')\n",
        "for Loop in range(1, 11):\n",
        "  if Loop == 6:\n",
        "    continue;# Ignora o comando posterior, nesse caso, o 'print' com a mensagem\n",
        "    print('Ignorado!')\n",
        "  # Impressão\n",
        "  print(Loop)\n",
        "\n",
        "# Pass:\n",
        "print('Pass - Esperava que fizesse o que?')\n",
        "while 0:\n",
        "  pass;"
      ],
      "metadata": {
        "id": "oy9eIVVsZ5Jo",
        "colab": {
          "base_uri": "https://localhost:8080/"
        },
        "outputId": "6b930aab-5c12-47e0-cd87-2000336bcf30"
      },
      "execution_count": null,
      "outputs": [
        {
          "output_type": "stream",
          "name": "stdout",
          "text": [
            "Uso do break:\n",
            "Ana\n",
            "Maria\n",
            "Julia\n",
            "Luana\n",
            "\n",
            "Usando o continue:\n",
            "1\n",
            "2\n",
            "3\n",
            "4\n",
            "5\n",
            "7\n",
            "8\n",
            "9\n",
            "10\n",
            "Pass - Esperava que fizesse o que?\n"
          ]
        }
      ]
    },
    {
      "cell_type": "markdown",
      "source": [
        "# Funções - def:\n",
        "Uma função é uma estrutura de código em bloco que será executada quando for chamada. Em uma função passamos os parâmetros(dados) que terão retornos de outros dados como resulltado.\n",
        "\n",
        "A *sintaxe de uma função** é definida por três partes: **nome**, **parâmetros** e **corpo**, o qual agrupa uma sequência de linhas que representa algum comportamento. Para chamar uma função usamos seu nome e passamos os parâmetros esperados entre parênteses. Sintaxe:\n",
        "- Função:\n",
        "def nome(parâmetro):\n",
        "    comandos\n",
        "- Chamada da função:\n",
        "Nomedafunção(parâmetro)"
      ],
      "metadata": {
        "id": "HtXKG9Myceh3"
      }
    },
    {
      "cell_type": "code",
      "source": [
        "# Função simples:\n",
        "def Boasvindas():\n",
        "  print('Olá! Seja bem-vindo!')\n",
        "\n",
        "# Chamada da função\n",
        "Boasvindas()\n",
        "\n",
        "# Ex.: Função que realiza um cálculo\n",
        "def Multiplicar(num1, num2):\n",
        "  mult = num1 * num2\n",
        "  print('Resultado: ', mult)\n",
        "# Necessária a passagem de valores para cada parâmetro\n",
        "Multiplicar(2, 5)\n",
        "\n",
        "# Ex.: Função que solicita um nome de úsuario e outra informações\n",
        "def Informações():\n",
        "  Nome = input('Informe seu nome:')\n",
        "  CPF = input('Digite seu CPF(11 dígitos):')\n",
        "  while len(CPF) > 11 or len(CPF) < 11:\n",
        "    print('CPF inválido!')\n",
        "    CPF = input('Digite seu CPF(11 dígitos):')\n",
        "  # Retorno dos dados inseridos\n",
        "  return Nome, int(CPF)\n",
        "\n",
        "# Chamada da função\n",
        "print('Dados informados: ', Informações())\n"
      ],
      "metadata": {
        "id": "grJe1h-12NUB",
        "colab": {
          "base_uri": "https://localhost:8080/"
        },
        "outputId": "7b744664-5821-48a2-99cb-54dee82476c9"
      },
      "execution_count": null,
      "outputs": [
        {
          "output_type": "stream",
          "name": "stdout",
          "text": [
            "Olá! Seja bem-vindo!\n",
            "Resultado:  10\n",
            "Informe seu nome:Maria\n",
            "Digite seu CPF(11 dígitos):12345678910\n",
            "Dados informados:  ('Maria', 12345678910)\n"
          ]
        }
      ]
    },
    {
      "cell_type": "markdown",
      "source": [
        "# Função Lambda\n",
        "A estrutura Lambda, permite a criação de funções anônimas, ou seja, sem necessidade de dar um nome para elas.\n",
        "- Elas podem receber varios argumentos, mas terá apenas uma expressão;\n",
        "\n",
        "Elas são úteis quando precisamos de uma função simples, que será utilizada apenas uma vez e não precisa ser reutilizada em outro lugar do código.\n",
        "Sintaxe:\n",
        "lambda {argumentos}: {expressão}\n"
      ],
      "metadata": {
        "id": "pZbmJIlpxrd7"
      }
    },
    {
      "cell_type": "code",
      "source": [
        "# Função lambda simples:\n",
        "soma = lambda valor: valor + 10\n",
        "# Chamada da função com o parâmetro\n",
        "soma(5)\n",
        "\n",
        "# Ex.: Multiplicação usando função lambda\n",
        "Multiplicar = lambda num_1, num_2: num_1 * num_2\n",
        "# Imprimindo a chamada da função, permitindo a entrada de dados\n",
        "print(Multiplicar(int(input('Digite o 1º valor:')), int(input('Digite o 2º valor:'))))\n",
        "\n",
        "# Uso de if com lambda\n",
        "ImparOuPar = lambda NUMERO: 'Par' if NUMERO % 2 == 0 else 'Ímpar'\n",
        "print(ImparOuPar(int(input('Informe o número:'))))"
      ],
      "metadata": {
        "id": "plxtpMVxyZLk",
        "colab": {
          "base_uri": "https://localhost:8080/"
        },
        "outputId": "12fdcf29-20d0-4769-aae2-21c454582245"
      },
      "execution_count": null,
      "outputs": [
        {
          "output_type": "stream",
          "name": "stdout",
          "text": [
            "Digite o 1º valor:5\n",
            "Digite o 2º valor:5\n",
            "25\n",
            "Informe o número:2\n",
            "Par\n"
          ]
        }
      ]
    },
    {
      "cell_type": "markdown",
      "source": [
        "# Classes e Objetos - Classes and Objects\n",
        "Em Python quase tudo é um objeto, com propriedades e métodos. As classe são como um construtor de objetos ou um \"projeto\" para criar objetos.\n",
        "Sintaxe da classe:\n",
        "class Nomeclass:\n",
        "    - # Metódo de construção da classe\n",
        "    def __init___(self, parâmetros):\n",
        "       self.parâmetro\n",
        "       \n",
        "Sintaxe do objeto:\n",
        "Var = Nomeclass()\n",
        "print(var.Nomevar)\n",
        "\n",
        "Para deletar objetos, usamos: del nomedavariável.propriedade"
      ],
      "metadata": {
        "id": "9hFkc3lO0EyD"
      }
    },
    {
      "cell_type": "code",
      "source": [
        "# Criação da classe\n",
        "class Pessoa:\n",
        "    # Metódo de construção da classe - Usado na passagem de valores; O 'self' aponta para o próprio\n",
        "    def __init__(self, Nome, Idade):\n",
        "        self.Nome = Nome\n",
        "        self.Idade = Idade\n",
        "\n",
        "    # Função de boas vindas\n",
        "    def inicio(self):\n",
        "        print('Bem-vindo, ', self.Nome, '!')\n",
        "\n",
        "    # Função de verificação da idade\n",
        "    def Responsavel(self):\n",
        "        if self.Idade >= 18:\n",
        "            print('Você é maior de idade!')\n",
        "            self.inicio()\n",
        "        else:\n",
        "            print('Você foi recusado! Precisa de autorização do seu responsável!')\n",
        "\n",
        "# Passagem de valores para os objetos\n",
        "Dados = Pessoa(input('Digite seu nome:'), int(input('Informe sua idade:')))"
      ],
      "metadata": {
        "colab": {
          "base_uri": "https://localhost:8080/"
        },
        "id": "XSK9Xwhr1PB-",
        "outputId": "f5d078a2-24df-4f35-dbaa-39c0d86e6f60"
      },
      "execution_count": null,
      "outputs": [
        {
          "name": "stdout",
          "output_type": "stream",
          "text": [
            "Digite seu nome:Pedro\n",
            "Informe sua idade:18\n"
          ]
        }
      ]
    },
    {
      "cell_type": "code",
      "source": [
        "# Chamada da função\n",
        "Dados.Responsavel()"
      ],
      "metadata": {
        "colab": {
          "base_uri": "https://localhost:8080/"
        },
        "id": "E0w95w1U9wH9",
        "outputId": "0528c4f7-65e5-4dc7-90b0-4743388f980d"
      },
      "execution_count": null,
      "outputs": [
        {
          "output_type": "stream",
          "name": "stdout",
          "text": [
            "Você é maior de idade!\n",
            "Bem-vindo,  Pedro !\n"
          ]
        }
      ]
    }
  ]
}