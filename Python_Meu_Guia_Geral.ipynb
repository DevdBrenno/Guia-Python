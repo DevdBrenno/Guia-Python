{
  "nbformat": 4,
  "nbformat_minor": 0,
  "metadata": {
    "colab": {
      "provenance": [],
      "authorship_tag": "ABX9TyPHi1ptsGa2kCe2oISIbWci",
      "include_colab_link": true
    },
    "kernelspec": {
      "name": "python3",
      "display_name": "Python 3"
    },
    "language_info": {
      "name": "python"
    }
  },
  "cells": [
    {
      "cell_type": "markdown",
      "metadata": {
        "id": "view-in-github",
        "colab_type": "text"
      },
      "source": [
        "<a href=\"https://colab.research.google.com/github/DevdBrenno/Guia-Python/blob/main/Python_Meu_Guia_Geral.ipynb\" target=\"_parent\"><img src=\"https://colab.research.google.com/assets/colab-badge.svg\" alt=\"Open In Colab\"/></a>"
      ]
    },
    {
      "cell_type": "markdown",
      "source": [
        "# Das configurações\n",
        "Devemos usar o comando \"python --version\" ou \"py --version\" no terminal do windows para verificar a versão da linguagem.\n",
        "Obs.: No cmd podemos digitar apenas \"python\"\n",
        "\n",
        "Criar um ambiente virtual:\n",
        "No terminal do VsCode digitamos \"python -m venv venv\"\n",
        "\".\\venv\\Scripts\\activate\"\n",
        "No powershell, digitamos:\n",
        "Get-ExecutionPolicy\n",
        "Set-ExecutionPolicy AllSigned -Force\n",
        "\n",
        "-------------------------------------\n",
        "\n",
        "Recomendável configurar o vscode (em settings) de acordo com sua preferência.\n",
        "Dica: O uso de shortcuts é muito útil. Ex.: shift + alt + seta-pra-cima (copia a linha de código)\n",
        "\n",
        "Digitar 'ls' no terminal irá exibir os arquivos e pastas.\n",
        "Para executar um arquivo no terminal, digitamos: python NomeDoArquivos.py\n",
        "\n",
        "Das 'Settings':\n",
        "- \"code-runner.runInTerminal\": true, # Com o coderunner, faz com que o código rode no terminal\n",
        "- \"code-runner.clearPreviousOutput\": true,\n",
        "- \"code-runner.executorMap\": {\"python\": \" cls ; python -u\"}, # Junto com o clearpreviewoutput, serve para limpar o terminal quando executado\n",
        "- \"code-runner.ignoreSelection\": true, # Ignora a seleção do código (para não rodar arquivos a soltos)\n",
        "- \"workbench.iconTheme\": \"material-icon-theme\", # Serve para a extensão material icons theme\n",
        "- \"workbench.colorTheme\": \"OM Theme (Default Dracula Italic)\", # Tema do Otávio Miranda\n",
        "- \"python.defaultInterpreterPath\": \"python\", # Faz com que o código execulte no ambiente virtual\n",
        "\n",
        "Das 'Extensões':\n",
        "- *python*: # Feito pela Microsoft, faz com que o VSCode vire um mini IDE(ambiente de desenvolvimento integrado) para o python.\n",
        "- *coderunner*: # Também tem a função de \"IDE\", mas abrange mais linguagens\n",
        "- tema: Om Theme (A Darker Dracula Theme)"
      ],
      "metadata": {
        "id": "oU6YdtQdKtj0"
      }
    },
    {
      "cell_type": "markdown",
      "source": [
        "# Sintaxe básica\n",
        "\n",
        "print() - Comando de Saída: Utilizado para impressão de dados e/ou conteúdos;\n",
        "\n",
        "Podemos usar aspas simples('s') ou aspas duplas(\"s\") para definições de strings(caracteres de texto).\n",
        "\n",
        "Comentários curtos podem ser feitos utilizando cerquilha'#'; para comentários de múltiplas linhas usa-se docstrings (\"\"\"oi\"\"\"). As aspas podem ser simples ou duplas.\n",
        "Obs.: Não é recomendável usar docstrings pois elas não são comentários e são lidas pelo interpretador. Docstrings são STRINGS.\n",
        "\n",
        "- O caractere '\\n' é utilizado para quebra de linha;\n",
        "- Podemos usar o (end=\"\") para que a linha não seja quebrada;\n",
        "- O comando 'sep=' serve como separador entre dados/quebradores de linha\n",
        "print(12, 43, sep='/', end='')"
      ],
      "metadata": {
        "id": "zkQgoTc-1GwJ"
      }
    },
    {
      "cell_type": "code",
      "execution_count": null,
      "metadata": {
        "id": "MwzjBKYyzZaC",
        "colab": {
          "base_uri": "https://localhost:8080/"
        },
        "outputId": "84462a70-dbab-46ff-ddb4-e940bb995d2f"
      },
      "outputs": [
        {
          "output_type": "stream",
          "name": "stdout",
          "text": [
            "Hello, world!\n",
            "Mesma linha: 12 43 \n",
            "Outra linha com barra:/12/43\n"
          ]
        }
      ],
      "source": [
        "# Comentários me python são feitos usando a cerquilha(#) para linhas únicas ou Aspas tripas(docstrings)\n",
        "# Para múltiplas linhas usa-se docstrings (\"\"\"oi\"\"\"), mas não é recomendável pois elas não são comentários e são lidas pelo interpretador\n",
        "print('Hello, world!') # Comando de impressão\n",
        "\n",
        "# O comando 'sep=' serve como separador entre dados/quebradores de linha\n",
        "print('Mesma linha:', 12, 43, end=\" \")\n",
        "print('\\nOutra linha com barra:', 12, 43, sep='/')"
      ]
    },
    {
      "cell_type": "markdown",
      "source": [
        "# Variáveis - Tipos de dados\n",
        "São container que armazenam valores de diferentes tipos de dados.\n",
        "A linguagem python é uma linguagem dinâmica(o programa observa qual é o tipo do dado e a partir disso a tipagem é determina em de execução [runtime]).\n",
        "\n",
        "As variáveis podem ser do tipo:\n",
        "- int (Nº positivos ou negativos) --> var = 1\n",
        "- float (Nº com ponto flutuantes/decimais) --> var = 1.0\n",
        "- string (textos/caracteres entre aspas) --> var = 'texto'\n",
        "- bool (True ou False) --> var = True ou var = False\n",
        "- complex (Nº imaginário) --> var = 5+2j\n",
        "Obs.: Para números decimais não usamos a vírgula, mas sim o ponto'.'.\n",
        "\n",
        "Além dessas, o python possuem listas, dicionarios e tuplas que também são contaneirs.\n",
        "\n",
        "O escape ('/') serve para exibir caracteres (tipo as aspas). Podemos usar o caractere 'r' antes das aspas, para podermos utilizar expressões regulares e exibir alguns caracteres que o print normalmente não exibe.\n",
        "Ex.: print(r'Teste /\"Python/\"')\n",
        "Obs.: Não é recomendável usar o 'r' antes das aspas ou o escape\n",
        "\n",
        "Podemos saber o tipo de uma variável com a função type(Nomevar). Ex.:var = 1\n",
        "print(type(var)) >>> <class 'int'>\n",
        "Obs.: '>>>' Esse sinal representa a saída/impressão em alguns interpretadores.\n",
        "\n",
        "# Casting\n",
        "Podemos realizar o cast nos tipos int, float, bool e str. Para realizar essa mudança, nos colocamos o dado dentro do tipo desejado. Ex.: int('2'); str(1)\n",
        "\n",
        "# Nomeação/Declaração de variáveis\n",
        "*Tipos de nomes para variáveis:*\n",
        "- Camel Case - Cada palavra começa com letra maiúscula, exceto a primeira:\n",
        "Ex.: myVariableName = \"John\"\n",
        "- Pascal Case -Cada palavra começa com uma letra maiúscula:\n",
        "Ex.: MyVariableName = \"John\"\n",
        "- Snake Case - Cada palavra é separada por um caractere de sublinhado:\n",
        "Ex.: my_variable_name = \"John\"\n"
      ],
      "metadata": {
        "id": "s0xsj5zOCxTj"
      }
    },
    {
      "cell_type": "code",
      "source": [
        "# String\n",
        "Texto = \"Isso é apenas uma variável string\"\n",
        "\n",
        "# Int\n",
        "Numero = 1\n",
        "\n",
        "# Float\n",
        "Decimal = 1.2\n",
        "\n",
        "# Bool\n",
        "Sentença = True\n",
        "\n",
        "# Complex\n",
        "a = 5+2j\n",
        "print(Texto, Numero, Decimal, Sentença, a)\n",
        "print(f'Tipos:\\n Texto é do tipo:{type(Texto)} \\n Numero é do tipo:{type(Numero)}\\n Decimal é do tipo:{type(Decimal)}\\n Sentença é do tipo:{type(Sentença)}\\n a é do tipo:{type(a)}')\n",
        "\n",
        "# Cast\n",
        "um = '1'\n",
        "print('Isso é uma string:', um, type(um), 'String convertida em inteiro: ', int(um), type(int(um)))\n",
        "print(str(1) + ' dois')\n",
        "\n",
        "# Declaração\n",
        "Laranja, Melao = 1, 2\n",
        "print(Laranja, Melao)\n",
        "\n",
        "# Um valor para várias\n",
        "Morango = Uva = Kiwi = 10\n",
        "print(Morango, Uva, Kiwi)\n",
        "\n",
        "# Combinar vaariáveis\n",
        "nome = 'Davi'\n",
        "sobrenome = ' Nunes'\n",
        "NomeCompleto = nome + '' + sobrenome\n",
        "print(NomeCompleto)\n",
        "\n",
        "# Operadores Matemáticos\n",
        "Nome = 'Maria '\n",
        "Idade = str(21)\n",
        "print(Nome + Idade + ' anos.')"
      ],
      "metadata": {
        "id": "JCjNIyf3FYmj",
        "colab": {
          "base_uri": "https://localhost:8080/"
        },
        "outputId": "0c419fb5-aae7-477a-ed98-87b8a5ccc434"
      },
      "execution_count": null,
      "outputs": [
        {
          "output_type": "stream",
          "name": "stdout",
          "text": [
            "Isso é apenas uma variável string 1 1.2 True (5+2j)\n",
            "Tipos:\n",
            " Texto é do tipo:<class 'str'> \n",
            " Numero é do tipo:<class 'int'>\n",
            " Decimal é do tipo:<class 'float'>\n",
            " Sentença é do tipo:<class 'bool'>\n",
            " a é do tipo:<class 'complex'>\n",
            "Isso é uma string: 1 <class 'str'> String convertida em inteiro:  1 <class 'int'>\n",
            "1 dois\n",
            "1 2\n",
            "10 10 10\n",
            "Davi Nunes\n",
            "Maria 21 anos.\n"
          ]
        }
      ]
    },
    {
      "cell_type": "markdown",
      "source": [
        "# Operadores Matemáticos/Aritméticos\n",
        "\n",
        "No python, alguns operadores possuem a mesma função que utilizamos na matemática, enquanto que outros possuem funções extras.\n",
        "\n",
        "**Soma e Subtração** = ('+') Soma e ('-') Subtrai números. Além disso, o operador de adição ('+') é utilizado para concatenação de objetos.\n",
        "Obs.: Em alguns casos a vírgula é mais adequada, pois permite \"concatenar\"  objetos de tipos diferentes.\n",
        "\n",
        "**Multiplicação** = ('*') Utilizado para multiplicar. Além de permitir que objetos sejam clonados/repetidos.\n",
        "\n",
        "**Divisão** = Utilizamos ('/') para sem arredondamento, ex.:5 / 2 >>> 2.5; Usamos ('//') para divisão com arredondamento, ex.: 5 // 2 >>> 2;\n",
        "\n",
        "**Resto da divisão** = Usamos o ('%') para exibir o resto, ex.:\t5 % 2 >>> 1.\n",
        "\n",
        "**Exponenciação** = Usamos o sinal de asterico('**') ou a função pow(base,expoente), ex.: 5 ** 2 >>> 25; pow(5, 2) >>> 25.\n",
        "\n",
        "**Atribuição** = Utilizamos o sinal de igual ('=') para atribuir um valor à uma variável ou objeto. Essa atribuição pode ser única ou múltipla, ex.: a = 1; a, b = 1, 2;\n",
        "\n",
        "**Priorização** = Operações entre parênteses são priorizadas em relação as demais, ex.: 5 * (2+2) >>> 20\n"
      ],
      "metadata": {
        "id": "tmBTabZJ4Twb"
      }
    },
    {
      "cell_type": "code",
      "source": [
        "# Atribuição\n",
        "a = 1\n",
        "b, c = 2, 3\n",
        "print('a =' , a, 'b =', b, 'c =', c)\n",
        "\n",
        "# Adição e Concatenação\n",
        "x = 'Soma:'\n",
        "print('Concatenação:', x, 4 + 4 )\n",
        "\n",
        "# Subtração\n",
        "print(4 - 2)\n",
        "\n",
        "# Multiplicação e \"clonagem\"\n",
        "print(5 * 5)\n",
        "print(\"Oi\"*2)# >>> OiOi\n",
        "\n",
        "# Divisão\n",
        "print('Divisão sem arredondamento:', 5 / 2)\n",
        "print('Divisão com arredondamento:', 5 // 2)\n",
        "\n",
        "# Resto\n",
        "print(3 % 4)\n",
        "\n",
        "# Potenciação\n",
        "print(5 ** 2)\n",
        "x = pow(4, 2)\n",
        "print('Potenciação:', x)\n"
      ],
      "metadata": {
        "id": "Bih4ubhj8Lyj"
      },
      "execution_count": null,
      "outputs": []
    },
    {
      "cell_type": "markdown",
      "source": [
        "# Métodos de formatação\n",
        "Existem diferentes maneiras para impressão/formatação de valores no python:\n",
        "- Metódo '.format()';\n",
        "- f-strings(formatação de strings);\n"
      ],
      "metadata": {
        "id": "tWhW_e66RW3g"
      }
    },
    {
      "cell_type": "code",
      "source": [
        "# Print simples\n",
        "String1 = 'String'\n",
        "Decimais = 1.4323\n",
        "print('Esse é um print simples com uma string:', String1)\n",
        "\n",
        "# Usando f-strings - Aqui usamos os {}, 'Colchetes', para especificar a posição da variável.\n",
        "# O ':.2f' é usado para escolher a quantidade de casas decimais\n",
        "Fstring = f'Essa é apenas uma forma de usar uma {String1}, podemos formatar os decimais {Decimais:.2f}'\n",
        "print(Fstring)\n",
        "valor1, valor2 = 10, 2\n",
        "print(f'A subtração do valor {valor1} por {valor2} é igual a: {valor1-valor2}')\n",
        "\n",
        "# Método format embutido: print(f'{var}')\n",
        "Num1, Num2 = 1, 2\n",
        "print('A soma do valor {}, com o valor {} é: {}'.format(Num1, Num2, round(Num1 + Num2))) # 'round' arredonda um valor\n"
      ],
      "metadata": {
        "id": "I813O_JuSlbb"
      },
      "execution_count": null,
      "outputs": []
    },
    {
      "cell_type": "markdown",
      "source": [
        "# Entrada de dados - input()\n",
        "A função 'input()' é uma função/comando de entrada de dados, ou seja, ela receberá e armazenará determindado valor. Definimos um pseúdo-parâmetro(mensagem dentro da caixa) string que auxiliará o úsuario para saber o tipo de dado que o programa aguarda.\n"
      ],
      "metadata": {
        "id": "4vpe5kdboDCJ"
      }
    },
    {
      "cell_type": "code",
      "source": [
        "# input()\n",
        "Nome = input('Digite seu nome: ')\n",
        "print(f'Olá, {Nome}!')\n",
        "\n",
        "Num1 = input('Digite o 1º número: ')\n",
        "Num2 = input('Digite o 2º número: ')\n",
        "print(f'A soma dos números inserido é: {int(Num1)+int(Num2)}')"
      ],
      "metadata": {
        "id": "Xfrv_AwUofZz",
        "colab": {
          "base_uri": "https://localhost:8080/"
        },
        "outputId": "bba61d68-c11b-45d0-8662-e8a6f4027aa8"
      },
      "execution_count": null,
      "outputs": [
        {
          "output_type": "stream",
          "name": "stdout",
          "text": [
            "Digite seu nome: Ana\n",
            "Olá, Ana!\n",
            "Digite o 1º número: 1\n",
            "Digite o 2º número: 2\n",
            "A soma dos números inserido é: 3\n"
          ]
        }
      ]
    },
    {
      "cell_type": "markdown",
      "source": [
        "# Condicional - If/Elif e Else (Se; Se Não, Se; Senão):\n",
        "O **'IF'** - (Se), é uma estrutura simples usada para executar um bloco de instruções, se essa for verdadeira, caso seja falsa, ele executará ou não outra. Sintaxe:\n",
        "If CONDIÇÃO:\n",
        "   - Declarações\n",
        "   - Condição é verdadeira;\n",
        "\n",
        "Usamos a palavra-chave **'elif'** - (Se Não, Se), para dizer que \"se as condição anterior não for verdadeira, execute essa\".\n",
        "O **else** - (Se Não), é usado para caso nenhuma das outras condições sejam veradeiras. Sintaxe:\n",
        "if CONDIÇÃO:\n",
        "  COMANDO\n",
        "elif CONDIÇÃO_2:\n",
        "  COMANDO\n",
        "else:\n",
        "  COMANDO\n",
        "\n",
        "# Short Hand If ... Else - If e else curto\n",
        "Se tivermos apenas uma condição if e outra else, podemos executá-las na mesma linha. Esse metódo pode ser chamado de Operadores Ternários ou Expressões Condicionais. Ex.:\n",
        "print(\"A\") if a > b else print(\"B\")\n",
        "\n",
        "Lembrete: Podemos usar o condicional if com os operadores lógicos, além de aninhá-las (usar uma função igual dentro da própria função.\n",
        "if CONDIÇÃO:\n",
        "  if CONDIÇÃO:\n",
        "    ..."
      ],
      "metadata": {
        "id": "bu--WDsbrQhp"
      }
    },
    {
      "cell_type": "code",
      "source": [
        "# If - Verificando se uma pessoa é maior de 18 anos\n",
        "Idade = int(input('Digite sua idade:'))\n",
        "\n",
        "if Idade >= 18:\n",
        "  print('Maior de idade!')\n",
        "elif Idade >= 15 or Idade <= 17:\n",
        "  print('Deverá ter autorização de um responsável!')\n",
        "else:\n",
        "  print('Você é menor de idade!')\n",
        "\n",
        "# If Else curto\n",
        "Vogal = input('Digite uma vogal:')\n",
        "print('Parabéns, você acertou!') if Vogal == 'a' else print('Que pena, você errou!')"
      ],
      "metadata": {
        "id": "8gHn1NVpsrjy",
        "colab": {
          "base_uri": "https://localhost:8080/"
        },
        "outputId": "89e99b3b-b555-4cb5-db21-39028cb880e7"
      },
      "execution_count": null,
      "outputs": [
        {
          "output_type": "stream",
          "name": "stdout",
          "text": [
            "Digite sua idade:10\n",
            "Deverá ter autorização de um responsável!\n",
            "Digite uma vogal:a\n",
            "Parabéns, você acertou!\n"
          ]
        }
      ]
    },
    {
      "cell_type": "markdown",
      "source": [
        "# Operadores de Comparação\n",
        "São usados para comparação entre valores, caso essa seja verdadeira, o resulta é 'True':\n",
        "- '==': Igual a - Compara se um valor é igual ao outro.\n",
        "- '!=': Diferente - Compara se um valor é diferente do outro.\n",
        "- '>' e '<': Maior e Menor.\n",
        "- '>=' e '<=': Maior ou igual e Menor ou igual.\n",
        "- '=': Atribuição, atruibui determinado valor a uma variável.\n",
        "\n",
        "# Operadores Lógicos\n",
        "São usados para combinar instruções:\n",
        "- and - 'e'. Retorna True se as operações forem verdadeiras.\n",
        "- or - 'ou'. Retorna True se uma das operações forem verdadeiras.\n",
        "- nor - 'Não'. Inverte o resultado da operação, ex.: True = False.\n",
        "\n",
        "Lembrete: Alguns objetos como as strings são iteráveis, ou seja, podemos percorrê-las/\"caminhar sobre elas\". Dessa forma, podemos afirmar que cada caracter está em um índice, ou seja, dentro de uma palavra por exemplo, teremos o índice (começando por 0) de acordo com a quantidade de letras. Ex.: Maria --> Índice: [0] = M; [1] = a; [2] = r; [3] = i; [4] = a.\n",
        "\n",
        "# Operadores de Associação\n",
        "1.  In = (entre) - Verifica e retorna True se objeto contém ou está entre determinado valor.\n",
        "\n",
        "2. Not in = (não está entre) - Verifica e retorna True se objeto não contém ou está entre determinado valor.\n",
        "\n"
      ],
      "metadata": {
        "id": "tR1u9kTwBnEU"
      }
    },
    {
      "cell_type": "code",
      "source": [
        "# Comparações\n",
        "Num = 10\n",
        "Num2 = 5\n",
        "print(Num > Num2)\n",
        "print(Num != 10)\n",
        "\n",
        "# Operações lógicas:\n",
        "Num3, Num4 = 20, 25\n",
        "print('And:', Num3 < Num4 and Num4 > 10) # And: True and True = True\n",
        "print('Or:', Num3 < Num4 or Num4 > 50)# OR: True or False = True\n",
        "print('Not:', not(Num3 < Num4) or Num4 > 50)# Not: Not(True) or False = False\n",
        "\n",
        "# Avaliação curto circuito\n",
        "print('curto circuito do and:', True and True and True) # True and true = false\n",
        "print('curto circuito do or:', True or False) # False or False = False\n",
        "print('curto circuito do not:', not False)# Not False = True; Not True = False\n",
        "\n",
        "# In - Verifica se está em:\n",
        "Nome = 'Maria'\n",
        "print(f'\\nA letra \"A\" está contida no valor da variável \"Nome\"?', 'a' in Nome)\n",
        "\n",
        "# Not in - Verifica se não está em:\n",
        "Fruta = 'Abacaxi'\n",
        "print('A letra na posição 0 do objeto fruta é diferente de \"A\"?', 'A' not in Fruta[0])\n"
      ],
      "metadata": {
        "id": "YTIUwY0kPrqd",
        "colab": {
          "base_uri": "https://localhost:8080/"
        },
        "outputId": "12d49b90-1095-4a04-8c51-4fa1a9a50399"
      },
      "execution_count": null,
      "outputs": [
        {
          "output_type": "stream",
          "name": "stdout",
          "text": [
            "True\n",
            "False\n",
            "And: True\n",
            "Or: True\n",
            "Not: False\n",
            "curto circuito do and: True\n",
            "curto circuito do or: True\n",
            "curto circuito do not: True\n",
            "\n",
            "A letra \"A\" está contida no valor da variável \"Nome\"? True\n",
            "A letra na posição 0 do objeto fruta é diferente de \"A\"? False\n"
          ]
        }
      ]
    },
    {
      "cell_type": "markdown",
      "source": [
        "# Interpolação de strings\n",
        "A interpolação é um método que permite construir um novo conjunto de dados a partir de um conjunto previamente conhecidos.\n",
        "s = strings\n",
        "d e i = int\n",
        "f = float\n",
        "x e X = Hexadecimal(A,B,C,D,E,F,0,1,2,3,4,5,6,7,8,9)\n",
        "\n",
        "Outros comando para formatação:\n",
        ".<número de dígitos>f\n",
        "(Caractere)(><^)(quantidade)\n",
        "> = Esquerda\n",
        "< = Direita\n",
        "Sinal - + ou -\n",
        "Ex.: 0 >- 100, .1f\n",
        "Conversion flags - !r, !s, !a"
      ],
      "metadata": {
        "id": "t7lTV9I3sFEQ"
      }
    },
    {
      "cell_type": "code",
      "source": [
        "# Interpolando valores - Usamos o porcento para representar a posição e o colocamos as variáveis entre parênteses\n",
        "nome = 'Brenno'\n",
        "preco = 1000.9589\n",
        "variavel = '%s, o preço é R$%.2f' % (nome, preco)\n",
        "print(variavel)\n",
        "\n",
        "# Outros caracteres\n",
        "varia = 'ABC'\n",
        "print(f'A equerda: {varia: >10}')\n",
        "print(f'A direita: {varia: <10}')\n",
        "print(f'O centro: {varia: ^10}')\n",
        "print(f'O hexadecimal de 1500 é {1500:08x}')"
      ],
      "metadata": {
        "id": "c1c22zOdsr1N",
        "colab": {
          "base_uri": "https://localhost:8080/"
        },
        "outputId": "9ec6f547-a389-43b0-dfe7-a62d4bfd9586"
      },
      "execution_count": null,
      "outputs": [
        {
          "output_type": "stream",
          "name": "stdout",
          "text": [
            "Brenno, o preço é R$1000.96\n",
            "A equerda:        ABC\n",
            "A direita: ABC       \n",
            "O centro:    ABC    \n",
            "O hexadecimal de 1500 é 000005dc\n"
          ]
        }
      ]
    },
    {
      "cell_type": "markdown",
      "source": [
        "# Fatiamento de Strings\n",
        "Strings são listas de bytes representadas por caracteres. Elas possuem índices que podem ser acessados por colchetes:\n",
        "Sintaxe: String[Posição Inicial: Posição Final]\n",
        "\n",
        "O fatiamento pode ser entendido como uma divisão no índice da string, em que o operador [n:m] retorna a parte da string do “enésimo” ao “emésimo” caractere, incluindo a primeira parte, mas excluindo a restante. Assim, devemos pensar no índice + 1, para termos ele por completo\n",
        "Ex.:\n",
        "string = 'python' # Tem tamanho 5\n",
        "-[0:1] = p; [1:2] = y; [2:3] = t; [3:4] = h; [4:5] = o; [5:6] = n\n",
        "print(string[0:6]) >>> python\n",
        "\n",
        "Lembrete: Podemos usar o método 'len()' para saber o tamanho de uma variável."
      ],
      "metadata": {
        "id": "IUc3ghVdw2rm"
      }
    },
    {
      "cell_type": "code",
      "source": [
        "# String\n",
        "string = 'Olá mundo!'\n",
        "print('Tamanho:', len(string))\n",
        "# Fatiamento de strings\n",
        "print('Fatia 0:3:', string[0:3])\n",
        "print('Fatia 4:10:', string[4:10])\n",
        "print('Fatia :10:', string[:10])\n",
        "print('Texto invertido:', string[::-1])\n",
        "\n",
        "# Fatiando em passos [i:f:p] - Início, final, passo\n",
        "print('Fatia em 2 passo:', string[0:10:2])\n",
        "\n",
        "# Exemplo\n",
        "CPF = 'CPF:123456789'\n",
        "print('Tamanho:', len(CPF))\n",
        "print('CPF = ', CPF[-9:])"
      ],
      "metadata": {
        "id": "L-NYvdcWxrQb",
        "colab": {
          "base_uri": "https://localhost:8080/"
        },
        "outputId": "80eec842-bf7f-4bad-d6d0-5fe820621ffb"
      },
      "execution_count": null,
      "outputs": [
        {
          "output_type": "stream",
          "name": "stdout",
          "text": [
            "Tamanho: 10\n",
            "Fatia 0:3: Olá\n",
            "Fatia 4:10: mundo!\n",
            "Fatia :10: Olá mundo!\n",
            "Texto invertido: !odnum álO\n",
            "Fatia em 2 passo: Oámno\n",
            "Tamanho: 13\n",
            "CPF =  123456789\n"
          ]
        }
      ]
    },
    {
      "cell_type": "markdown",
      "source": [
        "# Tratamento de exceções - Try Except\n",
        "Quando ocorre um erro ou exceção como o chamamos, o Python normalmente irá parar e gerar uma mensagem de erro. Tratamos essas exceções usando o try.\n",
        "- O comando **try** permite executar um bloco de código em busca de erros.\n",
        "- O **except** permite lidar com o erro executado.\n",
        "- Usamos o **else** para executar o código quando não há erro.\n",
        "- O **finally** permite executar código, independentemente do resultado dos blocos try e except.\n",
        "Sintaxe:\n",
        "try:\n",
        "  -comandos\n",
        "except:\n",
        "  -comandos\n",
        "finally:\n",
        "  -comandos final\n",
        "\n",
        "Podemos usar a palavra-chave **raise** para gerar uma exceção. Dessa forma, definimos que tipo de erro será gerado e o texto a ser impresso para o usuário. Ex.: raise TypeError('')"
      ],
      "metadata": {
        "id": "IcDHuESA3N6u"
      }
    },
    {
      "cell_type": "code",
      "source": [
        "# Try simples\n",
        "Numero = input('O número digitado será dobrado:')\n",
        "\n",
        "try:\n",
        "  print('STR:', Numero) # Caso não seja possivel realizar a ação, ele pula para except\n",
        "  print(f'O dobro de {Numero} é {float(Numero)*2:.2f}')\n",
        "except:\n",
        "  print('Isso não é um número!')\n",
        "\n",
        "# Raise - Gerando erros\n",
        "\"\"\"x = 5\n",
        "if not type(x) is str:\n",
        "  raise TypeError(\"Apenas variáveis do tipo string serão lidas.\")\"\"\""
      ],
      "metadata": {
        "id": "SH6R54TY3rkH"
      },
      "execution_count": null,
      "outputs": []
    },
    {
      "cell_type": "markdown",
      "source": [
        "# Variáveis, constantes e complexidade de código\n",
        "Constantes = Variáveis que não mudam. No python, usamos LETRAS maiúsculas para representar constantes\n",
        "\n",
        "- Não é uma boa prática usar muitas condições em um if, pois gera uma complexidade ruim\n",
        "\n",
        "# Operadores de identidade\n",
        "São usados para comparar se objetos estão na mesma posição na memória:\n",
        "1. Is - Retorna True se forem o mesmo objeto;\n",
        "2. Is not - True se ambas não forem o mesmo objeto;\n",
        "3. id = identidade\n",
        "\n",
        "Lembrete: None ou '' = sem valor"
      ],
      "metadata": {
        "id": "Bu7SYk9j7fWb"
      }
    },
    {
      "cell_type": "code",
      "source": [
        "velocidade = 61 # Velocidade atual do carro\n",
        "local = 100 # Local que o carro está\n",
        "\n",
        "VEL_RADAR1 = 60 # Velocidade máxima do radar\n",
        "LOCAL_R1 = 100 # 1º Radar\n",
        "RADAR_RANGE = 1 # Onde o radar pega\n",
        "\n",
        "# variáveis para legibilidade\n",
        "passou_radar1 = local >= (LOCAL_R1 - RADAR_RANGE) and local <= (LOCAL_R1 + RADAR_RANGE)\n",
        "acima_do_radar = velocidade > VEL_RADAR1\n",
        "carro_multado = passou_radar1 and acima_do_radar\n",
        "\n",
        "if acima_do_radar:\n",
        "  print('A velocidade passou do 1º radar')\n",
        "if passou_radar1:\n",
        "  print('O carro passou no 1º radar.')\n",
        "if carro_multado:\n",
        "  print('O carro foi multado no 1º radar!')"
      ],
      "metadata": {
        "id": "j4UCo8mx-TYU",
        "colab": {
          "base_uri": "https://localhost:8080/"
        },
        "outputId": "604d6fc4-0007-40f0-f6b1-18f980706570"
      },
      "execution_count": null,
      "outputs": [
        {
          "output_type": "stream",
          "name": "stdout",
          "text": [
            "A velocidade passou do 1º radar\n",
            "O carro passou no 1º radar.\n",
            "O carro foi multado no 1º radar!\n"
          ]
        }
      ]
    },
    {
      "cell_type": "code",
      "source": [
        "# Identificadores\n",
        "Texto_01 = 'Olá, mundo!'\n",
        "Texto_02 = 'Olá, mundo!'\n",
        "print('Os id são iguais?', id(Texto_01) == id(Texto_02))\n",
        "print('São do mesmo tipo?', type(Texto_01) is type(Texto_02))\n",
        "print('Não são do mesmo tipo?', (type(Texto_01) is not type(Texto_02)))\n",
        "# Obs.: Apesar de serem iguais, elas não estão no mesmo endereço de memória\n",
        "\n",
        "# is e is not\n",
        "condicao = False\n",
        "passou_no_if = None\n",
        "\n",
        "if condicao:\n",
        "  print('Fiz algo.')\n",
        "  passou_no_if = True\n",
        "else:\n",
        "  print('Não fiz nada.')\n",
        "  passou_no_if = None\n",
        "\n",
        "print(passou_no_if, passou_no_if is None)\n",
        "print(passou_no_if, passou_no_if is not None)"
      ],
      "metadata": {
        "id": "0ljVgn8-BB7f",
        "colab": {
          "base_uri": "https://localhost:8080/"
        },
        "outputId": "94cb81d3-d8ce-4025-eaae-77abb8e34ee9"
      },
      "execution_count": null,
      "outputs": [
        {
          "output_type": "stream",
          "name": "stdout",
          "text": [
            "Os id são iguais? False\n",
            "São do mesmo tipo? True\n",
            "Não são do mesmo tipo? False\n",
            "Não fiz nada.\n",
            "None True\n",
            "None False\n"
          ]
        }
      ]
    },
    {
      "cell_type": "markdown",
      "source": [
        "# Tipos imbutido = built-in, documentação, tipo imutáveis, métodos\n",
        "Documentação Oficial: https://docs.python.org\n",
        "Buit-in: https://docs.python.org/3.13/library/stdtypes.html#index-0\n",
        "Os tipos imutáveis são aqueles que não podem ter seus valores mudados ao longo do programa. São eles: str, int, float, bool.\n",
        "\n",
        "Por exemplo, se tantarmos alterar o valor de uma letra em uma string, não conseguiremos.\n",
        "\n",
        "Metódos de manipulação de strings:\n",
        "1. - replace() - Subtitui um valor.\n",
        "2. - starwith() - Confere se o começo possui um determinado valor.\n",
        "3. - endswith() - Confere se o fim de uma string possui um determinado valor.\n",
        "4. - count() - Conta quantas palavras ou letras uma string possui.\n",
        "5. - capitalize() - Transforma a primeira letra em maiúscula\n",
        "6. - isdigit() - Verifica se os valores de determida variável são digitos numéricos.\n",
        "7. - isalnum() - Verifica se a variável possui apenas letras e números.\n",
        "8. - upper() - Transfoma todas as letras em maiúsculas.\n",
        "9. - lower() - Transforma todas as letras em minúsculas.\n",
        "10. - find() - Localizar algo espicífico na string e reatorna o índice onde ela inicia.\n",
        "11. - strip() - Remove os espaços do começo e do final.\n",
        "12. - split() - Quebra a string em substrings."
      ],
      "metadata": {
        "id": "0AxA2_hKnav5"
      }
    },
    {
      "cell_type": "code",
      "source": [
        "# Mudar a valor de uma string (tipo imutável) gerará um erro\n",
        "usuario = 'Mário'\n",
        "#usuario[3] = 'ABC'  - Erro\n",
        "\n",
        "\"\"\" Metódos de manipulação de string \"\"\"\n",
        "# Capitalize() - Primeira letra fica maiúscula\n",
        "Nome = 'júlia'\n",
        "print('Capitalize:', Nome.capitalize())\n",
        "\n",
        "# zfill - Preenche o espaço de acordo com o valor informado\n",
        "print('Zfill:', Nome.zfill(10))\n",
        "\n",
        "# Replace(ValorAntigo, NovoValor) - Substitui um valor\n",
        "String = 'Olá, mundo!'\n",
        "print('Replace:', String.replace('Olá', 'Hello'))\n",
        "\n",
        "# Starwith(valor) - Confere se o começo possui um valor\n",
        "print('Starswith:', String.startswith('Hello'))\n",
        "\n",
        "# Endswith(valor)\n",
        "print('Endswith:', String.endswith('mundo!'))\n",
        "\n",
        "# Count('letra/palavra')\n",
        "print('Count:', String.count('a'))\n"
      ],
      "metadata": {
        "id": "S0Ip0dH7pI1M",
        "colab": {
          "base_uri": "https://localhost:8080/"
        },
        "outputId": "96763139-7ff3-4931-ff84-8f71edfb806c"
      },
      "execution_count": null,
      "outputs": [
        {
          "output_type": "stream",
          "name": "stdout",
          "text": [
            "Capitalize: Júlia\n",
            "Zfill: 00000júlia\n",
            "Replace: Hello, mundo!\n",
            "Starswith: False\n",
            "Endswith: True\n",
            "Count: 0\n"
          ]
        }
      ]
    },
    {
      "cell_type": "code",
      "source": [
        "\"\"\" Outros metódos de manipulação de strings \"\"\"\n",
        "# Isdigit()\n",
        "CPF = '123456789'\n",
        "CPF.isdigit()\n",
        "\n",
        "# Isnum()\n",
        "CPF.isalnum()\n",
        "\n",
        "# Upper()\n",
        "String.upper()\n",
        "\n",
        "# Lower()\n",
        "String.lower()\n",
        "\n",
        "# Find()\n",
        "String.find('Olá')\n",
        "CPF.find('10') # Retorna '-1' quando não existe\n",
        "\n",
        "# Strip()\n",
        "Frase = ' Essa é a distância que existe entre nós. '\n",
        "Frase.strip()\n",
        "\n",
        "# Split()\n",
        "Frase.split()"
      ],
      "metadata": {
        "id": "XB7yELgurApO",
        "colab": {
          "base_uri": "https://localhost:8080/"
        },
        "outputId": "c216a1db-5992-47e4-e8ef-6f123c1ba497"
      },
      "execution_count": null,
      "outputs": [
        {
          "output_type": "execute_result",
          "data": {
            "text/plain": [
              "['Essa', 'é', 'a', 'distância', 'que', 'existe', 'entre', 'nós.']"
            ]
          },
          "metadata": {},
          "execution_count": 16
        }
      ]
    },
    {
      "cell_type": "markdown",
      "source": [
        "# Estrutura de repetição \"Enquanto\" - While\n",
        "O loop while se encaixa na categoria de iteração indefinida(a quantidade de repetições não é definida, o código será executado enquanto uma condição não for atendida). Com ele podemos executar um conjunto de instruções, desde que uma condição seja verdadeira.\n",
        "Sintaxe:\n",
        "while condição:\n",
        "    - loop/comando\n",
        "\n",
        "Obs.: loop's infinitos ocorrem quando uma condição é verdadeira, porém, o mesmo loop não possui uma condição de parada como por exemplo um break.\n",
        "\n",
        "Lmebrete: Podemos usar diversos operadores de atribuição. Ex: =; +=; -=; *=; /=; //=; **=; %=\n",
        "\n",
        "- Break: interrompe o loop e vai sair dele, ou seja, ele não vai mais continuar percorrendo.\n",
        "- Continue: não encerra o loop, ela apenas interrompe."
      ],
      "metadata": {
        "id": "MbdLqijauUDF"
      }
    },
    {
      "cell_type": "code",
      "source": [
        "# While simples - O laço será repetido até que o usuário digite 'sair'\n",
        "condicao = True\n",
        "while condicao:\n",
        "  nome = input('Digite seu nome ou \"sair\":')\n",
        "  print(f'Seu nome é {nome}')\n",
        "\n",
        "  nome = nome.lower() # O '.lower()' faz com que o que for digitado fique minúsculo\n",
        "  if nome == \"sair\":\n",
        "    break;\n",
        "\n",
        "print('O loop acabou!\\n')\n",
        "\n",
        "\n",
        "# Contador com while - Usá-se uma variável que recebe uma adição\n",
        "contador = 0\n",
        "while contador < 10:\n",
        "  contador += 1 # contador + 1\n",
        "  print(contador, end='')\n",
        "\n",
        "# Continue e break\n",
        "cont = 4\n",
        "while cont <= 50:\n",
        "  cont += 1\n",
        "  print(cont)\n",
        "\n",
        "  if cont == 10:\n",
        "    break; # Quebra o laço\n",
        "  elif cont == 5:\n",
        "    print('O 5 não será mostrado')\n",
        "    continue; # Interrompe o laço\n",
        "\n",
        "print('Acabou!')\n",
        "\n",
        "\n",
        "# While aninhado\n",
        "quant_linhas= 3\n",
        "quant_colunas = 3\n",
        "\n",
        "\"\"\" Basicamente o while interno será executado 5 vezes a cada 1 execução do while\n",
        "externo \"\"\"\n",
        "linha = 1\n",
        "while linha <= quant_linhas:\n",
        "  coluna = 1\n",
        "  while coluna <= quant_colunas:\n",
        "    print(f'{linha=}{coluna=}')\n",
        "    coluna += 1\n",
        "  print(f'{\"-\"*15:^10}')\n",
        "  linha += 1\n",
        "\n",
        "print('Acabou!')\n",
        "\n",
        "\n",
        "# While com else\n",
        "string = 'Valor qualquer'\n",
        "i = 0\n",
        "while i < len(string):\n",
        "  if string[i] == ' ':\n",
        "    break\n",
        "\n",
        "  print(string[i])\n",
        "  i += 1\n",
        "else:\n",
        "    print('A variável não contém espaços.')\n"
      ],
      "metadata": {
        "id": "a4dmcMF3uz3D",
        "colab": {
          "base_uri": "https://localhost:8080/"
        },
        "outputId": "45b96f61-8b3c-45b0-d5f1-8645a6a95a61"
      },
      "execution_count": null,
      "outputs": [
        {
          "output_type": "stream",
          "name": "stdout",
          "text": [
            "Digite seu nome ou \"sair\":David\n",
            "Seu nome é David\n",
            "Digite seu nome ou \"sair\":sair\n",
            "Seu nome é sair\n",
            "O loop acabou!\n",
            "\n",
            "123456789105\n",
            "O 5 não será mostrado\n",
            "6\n",
            "7\n",
            "8\n",
            "9\n",
            "10\n",
            "Acabou!\n",
            "linha=1coluna=1\n",
            "linha=1coluna=2\n",
            "linha=1coluna=3\n",
            "---------------\n",
            "linha=2coluna=1\n",
            "linha=2coluna=2\n",
            "linha=2coluna=3\n",
            "---------------\n",
            "linha=3coluna=1\n",
            "linha=3coluna=2\n",
            "linha=3coluna=3\n",
            "---------------\n",
            "Acabou!\n",
            "V\n",
            "a\n",
            "l\n",
            "o\n",
            "r\n"
          ]
        }
      ]
    },
    {
      "cell_type": "code",
      "source": [
        "print('\\n Jogo acerte o número.')\n",
        "# Ex.: jogo acerte o número - feito com while\n",
        "import random\n",
        "VALOR = random.randint(1, 10)\n",
        "while True:\n",
        "  p1 = int(input('Player 1, adivinhe o número inteiro:'))\n",
        "  p2 = int(input('Player 2, adivinhe o número inteiro:'))\n",
        "  if p1 != p2:\n",
        "    if p1 == VALOR:\n",
        "      print('Parabéns player 1, você ganhou!')\n",
        "      break;\n",
        "    elif p2 == VALOR:\n",
        "      print('Parabéns player 2, você ganhou!')\n",
        "      break;\n",
        "    else:\n",
        "      print('Ninguém acertou.')\n",
        "      continue;\n",
        "  else:\n",
        "    print('Escolha outro número.')"
      ],
      "metadata": {
        "id": "T5s0ZNESIary",
        "colab": {
          "base_uri": "https://localhost:8080/"
        },
        "outputId": "453669a4-61c0-40ee-e90d-5e3cbb09e9cf"
      },
      "execution_count": null,
      "outputs": [
        {
          "output_type": "stream",
          "name": "stdout",
          "text": [
            "\n",
            " Jogo acerte o número.\n",
            "Player 1, adivinhe o número inteiro:5\n",
            "Player 2, adivinhe o número inteiro:6\n",
            "Parabéns player 2, você ganhou!\n"
          ]
        }
      ]
    },
    {
      "cell_type": "code",
      "source": [
        "# while - Qual letra apareceu mais vezes na frase? (Iterando strings com while)\n",
        "frase = 'O Python é uma linguagem de programação multiparadigma.'\\\n",
        "'Criada por Guido Van Rossum.'\n",
        "\n",
        "# .Count() - Conta o número de vezes que um valor aparece\n",
        "\"\"\"print(frase.count('Python'))\"\"\"\n",
        "i = 0\n",
        "mais_apareceu = 0\n",
        "letra_mais_apareceu = ''\n",
        "\n",
        "while i < len(frase):\n",
        "  letra = frase[i]\n",
        "\n",
        "  if letra == ' ':\n",
        "    i += 1\n",
        "    continue\n",
        "\n",
        "  quant_letras = frase.count(letra)\n",
        "\n",
        "  if mais_apareceu <= quant_letras:\n",
        "    mais_apareceu = quant_letras\n",
        "    letra_mais_apareceu = letra\n",
        "  i += 1\n",
        "\n",
        "print('O caractere', letra_mais_apareceu,'. Apareceu: ', quant_letras, ' vezes.')\n"
      ],
      "metadata": {
        "id": "-i1wk1VcsJ86",
        "colab": {
          "base_uri": "https://localhost:8080/"
        },
        "outputId": "788ddbab-e752-4ac7-a786-df7f1a022d63"
      },
      "execution_count": null,
      "outputs": [
        {
          "output_type": "stream",
          "name": "stdout",
          "text": [
            "O caractere a . Apareceu:  2  vezes.\n"
          ]
        }
      ]
    },
    {
      "cell_type": "code",
      "source": [
        "linhas = 2\n",
        "colunas = 2\n",
        "\n",
        "linha = 1\n",
        "while linha <= linhas:\n",
        "    coluna = 1\n",
        "    while coluna <= colunas:\n",
        "        print(linha, coluna)\n",
        "        coluna += 1\n",
        "    linha += 1"
      ],
      "metadata": {
        "id": "6wafIgJ1z1iS",
        "colab": {
          "base_uri": "https://localhost:8080/"
        },
        "outputId": "cc7857ff-9af8-4d5c-f9a4-81df99cd673b"
      },
      "execution_count": null,
      "outputs": [
        {
          "output_type": "stream",
          "name": "stdout",
          "text": [
            "1 1\n",
            "1 2\n",
            "2 1\n",
            "2 2\n"
          ]
        }
      ]
    },
    {
      "cell_type": "markdown",
      "source": [
        "# Estrutura de repetição definida - For\n",
        "Um loop for('Para'), é usado para iterar sobre uma sequência (que pode ser uma lista, uma tupla, um dicionário, um conjunto ou uma string) definida (quando sabemos a quantidade ou nº de repetições).\n",
        "\n",
        "Com o loop 'for' podemos executar um conjunto de instruções, uma vez para cada item em uma lista, tupla, conjunto etc.\n",
        "Sintaxe:\n",
        "for interador in objeto:\n",
        "    comando;\n",
        "\n",
        "Obs.: O iterador pega/exibe valores, mas também pode exibir os índices.\n",
        "\n",
        "Podemos usar o loop for com misturado com diversos objetos e funções. Ex.:\n",
        "Enumerate() - Para exibir o índice junto com os objetos.\n",
        "\n",
        "Lembrete: Strings são objetos iteráveis, ou seja, podemos acessar/percorrer seus elementos.\n",
        "Lembrete-2: Podemos usar end='' para fazer com que os caracteres fiquem na mesma linha.\n",
        "\n",
        "Função range(start, stop, step) - Pode ser usada com o for e serve para definir ou retornar uma range/sequência de valores.\n",
        "range(começo, parada, pulo).\n"
      ],
      "metadata": {
        "id": "6APYGmSdmJtg"
      }
    },
    {
      "cell_type": "code",
      "source": [
        "# Loop For\n",
        "texto = 'Python S2' # A string pode ser iterada\n",
        "\n",
        "novo_texto = ''\n",
        "# Para cada letra(iterável) no texto, imprima a/o letra(iterável)\n",
        "for letra in texto:\n",
        "  print(letra)\n",
        "  novo_texto += f'{letra}'\n",
        "\n",
        "print(novo_texto)\n",
        "\n",
        "# Range + for\n",
        "nums = range(10) # <<< 0 até 9\n",
        "\n",
        "print('\\nNúmero:')\n",
        "for num in nums:\n",
        "  print(num, end='')\n",
        "\n",
        "negativos = range(0, -10, -1)\n",
        "print('\\nNegativos:')\n",
        "for negativo in negativos:\n",
        "  print(negativo, end='')\n",
        "\n",
        "\n"
      ],
      "metadata": {
        "id": "dUOnuGCZmbEP",
        "colab": {
          "base_uri": "https://localhost:8080/"
        },
        "outputId": "7ed5912b-7ce9-4e4f-cd77-4102a5d910bf"
      },
      "execution_count": null,
      "outputs": [
        {
          "output_type": "stream",
          "name": "stdout",
          "text": [
            "P\n",
            "y\n",
            "t\n",
            "h\n",
            "o\n",
            "n\n",
            " \n",
            "S\n",
            "2\n",
            "Python S2\n",
            "\n",
            "Número:\n",
            "0123456789\n",
            "Negativos:\n",
            "0-1-2-3-4-5-6-7-8-9"
          ]
        }
      ]
    },
    {
      "cell_type": "markdown",
      "source": [
        "Funcionamento do For:\n",
        "Iterável -> Um elemento que contém o metódo '__iter__', ou seja, ele age percorrendo e retornando um elemento por vez. São iteráveis: str, range, etc.\n",
        "iter(valor) - É o mesmo que '__iter__()'.\n",
        "\n",
        "Iterador -> Elemento que sabe entregar um valor por vez.\n",
        "\n",
        "next -> '__next__()' Faz com que o iterador entegue o próximo item. Podemos usar a função 'next(valor)'. Ex.:\n",
        "text = iter('Davi')\n",
        "print(next(text))\n",
        "print(next(text))\n",
        "print(next(text))\n",
        "print(next(text))\n",
        "\n",
        "Obs.: Caso haja mais 'nexts' do que índices, o programa gerará um erro.\n"
      ],
      "metadata": {
        "id": "O47_JBmbsoMg"
      }
    },
    {
      "cell_type": "code",
      "source": [
        "text = iter('Davi')\n",
        "print(next(text))\n",
        "print(next(text))\n",
        "print(next(text))\n",
        "print(next(text))\n",
        "\n",
        "# Exemplo do uso de iterador\n",
        "\"\"\" O while será executado (somente com o uso do try) porquê a excessão do next\n",
        "de parada de iteração foi resolvida.\"\"\"\n",
        "print('Next com while')\n",
        "nome = 'Isis'\n",
        "iterador = iter(nome)\n",
        "\n",
        "while True:\n",
        "  try:\n",
        "    print(next(iterador), end='')\n",
        "  except StopIteration:\n",
        "    break\n",
        "\n",
        "# Também funciona no for. Aqui o 'i' são as linha e o 'j' as colunas\n",
        "print('\\n\\nIteração com for:')\n",
        "for i in range(10):\n",
        "  if i == 2:\n",
        "    print('i é 2, pulando...')\n",
        "    continue\n",
        "\n",
        "  if i == 8:\n",
        "    print('i é 8, seu else não executará')\n",
        "\n",
        "  for j in range(1, 3):\n",
        "    print(i, j)\n",
        "else:\n",
        "  print('For completo com sucesso!')\n",
        "\n",
        "\n",
        "\n"
      ],
      "metadata": {
        "id": "JzEOQH35tdz_",
        "colab": {
          "base_uri": "https://localhost:8080/"
        },
        "outputId": "dd63e470-84ca-4012-a543-da82c5dcc646"
      },
      "execution_count": null,
      "outputs": [
        {
          "output_type": "stream",
          "name": "stdout",
          "text": [
            "D\n",
            "a\n",
            "v\n",
            "i\n",
            "Next com while\n",
            "Isis\n",
            "\n",
            "Iteração com for:\n",
            "0 1\n",
            "0 2\n",
            "1 1\n",
            "1 2\n",
            "i é 2, pulando...\n",
            "3 1\n",
            "3 2\n",
            "4 1\n",
            "4 2\n",
            "5 1\n",
            "5 2\n",
            "6 1\n",
            "6 2\n",
            "7 1\n",
            "7 2\n",
            "i é 8, seu else não executará\n",
            "8 1\n",
            "8 2\n",
            "9 1\n",
            "9 2\n",
            "For completo com sucesso!\n"
          ]
        }
      ]
    },
    {
      "cell_type": "markdown",
      "source": [],
      "metadata": {
        "id": "sovWS24ZcTP2"
      }
    },
    {
      "cell_type": "markdown",
      "source": [
        "# Tipos de dados (Arrays)\n",
        "Podem ser:\n",
        "1 - Lista(List): Criada usando os colchetes '['valor']'. Elas agrupam um conjunto de elementos variados e podem conter: inteiros, floats, strings, outras listas ou outros tipos. As listas são mutáveis, ou seja, podemos mudar o valor de seus dados.\n",
        "alunos = ['Amanda', 'Ana', 'Bruno', 10]\n",
        "\n",
        "2 - Tuplas: São criadas usando parêntese '(valor)'. Agrupa um conjunto de elementos. A diferença para Lista é que **Tuplas são imutáveis**, ou seja, após sua definição, **Tuplas não podem ser modificadas**.\n",
        "valores = (90, 79, 54, 32, 21)\n",
        "\n",
        "3 - Dicionários(dict): São criados usando chaves '{chave : valor}'. Eles são extremamente flexiveis, e utilizados para agrupar elementos através da **estrutura de chave e valor**, onde a chave é o 1º elemento seguido por dois pontos e pelo valor.\n",
        "altura = {'Amanda': 1.65, 'Ana': 1.60, 'João': 1.70}"
      ],
      "metadata": {
        "id": "tlOBhJFBIeUH"
      }
    },
    {
      "cell_type": "code",
      "source": [
        "# Listas(list)\n",
        "lista = ['Zero', 1, 2.0, True, []]\n",
        "print('Lista:', lista)\n",
        "print(type(lista))\n",
        "# Podemos imprimir um valor de determinada posição atráves do índice\n",
        "print(lista[0])\n",
        "\n",
        "# CRUD - Create, Read, Update e Delete\n",
        "NovaLista = [10, 20, 30, 40]\n",
        "# Mudando valor de determinada posição\n",
        "NovaLista[2] = 'trinta'\n",
        "print(NovaLista[2])\n",
        "# Del var[i]- Apaga o valor que estiver no índice e substitui pelo posterior (se houver)\n",
        "del NovaLista[2]\n",
        "print('Del:', NovaLista[2])\n",
        "# Append() - Adiciona um valor ao final\n",
        "NovaLista.append(50)\n",
        "print('Append:', NovaLista)\n",
        "# Pop() - Remove o último valor da lista\n",
        "print('Pop:', NovaLista.pop())\n",
        "# Inserte(i, valor) - Adiciona um valor de acordo com o índice escolhido\n",
        "NovaLista.insert(3, 60)\n",
        "print('Insert:', NovaLista)\n",
        "# Clear() - Limpa a lista: NovaLista.clear()\n",
        "\n",
        "Lista_A = ['Dez', 'Vinte', 'Trinta']\n",
        "Lista_B = ['Quarenta', 'Cinquenta']\n",
        "# Concatenando\n",
        "Lista_C = Lista_A + Lista_B\n",
        "print('Concatenando:', Lista_C)\n",
        "# Extend() - Estende a lista. Ele faz a ação, mas não retorna nada.\n",
        "Lista_A.extend(Lista_B)\n",
        "print('Extend:', Lista_A)\n",
        "\n",
        "# Dados Imutáveis, apesar de não poder ser alterados, podemos mudar o valor de posição\n",
        "Nome = 'João'\n",
        "Nome = 'Maria'\n",
        "print(Nome)\n",
        "# Obs.: Podemos atribuir o valor anterior a outra variável para o Garbage Collector não eliminá-lo\n",
        "\n",
        "# Lista mutáveis\n",
        "lista_a = ['Luiz', 'Pedro']\n",
        "lista_b = lista_a # Isso não é uma cópia, apenas apontam para a msm direção\n",
        "print('Mesmo endereço:', lista_b)\n",
        "# Copy() - Copia o mesmo valor. Dessa forma, teremos listas diferente com o msm valor\n",
        "lista_c = lista_a.copy()\n",
        "print('Copy:', lista_c)\n",
        "\n",
        "# For em listas\n",
        "print('For com listas:')\n",
        "Alfabeto = ['a', 'b', 'c', 'd']\n",
        "for letra in Alfabeto:\n",
        "  print(letra)\n"
      ],
      "metadata": {
        "id": "uIFyXYrrRNPy"
      },
      "execution_count": null,
      "outputs": []
    },
    {
      "cell_type": "markdown",
      "source": [
        "# Desempacotamento & Tuplas\n",
        "Desempacotar consiste em pegar valores de uma lista, tupla ou coleção e atribuir a outra variável ou objeto.\n",
        "\n",
        "- Lembrete: Caso o nº de variáveis seja menor que o dos valores, a variável que tiver um '*', receberá o valor de lista\n",
        "nome, *resto = ['Maria', 'Helena', 'Luiz']\n",
        "Obs.: Caso não queiramos usar a variável resto, podemos omití-la com '*_' (underline).\n",
        "\n",
        "Tuplas - Assim como as constantes, elas são imúltaveis, ou seja, não podemos alterar seus objetos, mudar seu endereço, adicionar ou remover elementos.\n",
        "- Para declarar uma tupla, usamos os colchetes e a vírgula. Ex.: variável = (valor,)\n",
        "tupla = ('posiçãozero', 1, 2, 3)\n",
        "print('\\nTupla:', tupla)\n",
        "\n",
        "Tuplas - Não possuem métodos. Portanto, devemos usar o casting e modificar o seu tipo para usá-los."
      ],
      "metadata": {
        "id": "t7diY6KptWPl"
      }
    },
    {
      "cell_type": "code",
      "source": [
        "# Podemos atribuir os valores de uma lista as variáveis\n",
        "nome1, nome2, nome3 = ['Maria', 'Helena', 'Luiz']\n",
        "print('Variáveis:', nome1, nome2, nome3)\n",
        "# Obs.: A variável que tiver um '*', receberá o valor de lista\n",
        "nome, *resto = ['Maria', 'Helena', 'Luiz']\n",
        "print('Variável:', nome,'Lista:', resto)\n",
        "\n",
        "# Tuplas - Não possuem métodos\n"
      ],
      "metadata": {
        "colab": {
          "base_uri": "https://localhost:8080/"
        },
        "id": "tJR1DrHsuS6Z",
        "outputId": "09fed962-74cc-4598-fa77-12e9c29e44de"
      },
      "execution_count": null,
      "outputs": [
        {
          "output_type": "stream",
          "name": "stdout",
          "text": [
            "Variáveis:,Maria,Helena,Luiz\n",
            "Variável: Maria Lista: ['Helena', 'Luiz']\n"
          ]
        }
      ]
    },
    {
      "cell_type": "markdown",
      "source": [
        "# Enumerate\n",
        "Enumerate é uma função integrada em python que permite monitorar o número de iterações (loops) em um loop.\n",
        "Enumerate(índices)."
      ],
      "metadata": {
        "id": "k3tQMzjxx7Up"
      }
    },
    {
      "cell_type": "code",
      "source": [
        "lista = ['Maria', 'Helena', 'Luiz']\n",
        "\n",
        "# Enumerate é um interator, dessa forma, ele exibe o valor e seu índice\n",
        "for item in enumerate(lista):\n",
        "  print(item)\n",
        "\n",
        "# Podemos ver os índices e valores em forma de outro objeto convertendo o enumerate\n",
        "lista_enumerada = list(enumerate(lista))\n",
        "print(lista_enumerada)"
      ],
      "metadata": {
        "colab": {
          "base_uri": "https://localhost:8080/"
        },
        "id": "bTYG4rpOybji",
        "outputId": "cba6610d-7b60-49f1-e307-ed52d41f87cf"
      },
      "execution_count": null,
      "outputs": [
        {
          "output_type": "stream",
          "name": "stdout",
          "text": [
            "(0, 'Maria')\n",
            "(1, 'Helena')\n",
            "(2, 'Luiz')\n",
            "[(0, 'Maria'), (1, 'Helena'), (2, 'Luiz')]\n"
          ]
        }
      ]
    },
    {
      "cell_type": "markdown",
      "source": [
        "# Tipo da Informação\n",
        "O python possui os seguintes tipo como padrões:\n",
        "1 - Text = str\n",
        "2 - Numeric = int, float, complex\n",
        "3 - Sequence = list, tuple, range\n",
        "4 - Mapping = dict\n",
        "5 - Set = set, frozenset\n",
        "6 - Bollean = bool\n",
        "7 - Binary = bytes, bytearray, memoryview\n",
        "\n",
        "Às vezes, não podemos trabalhar com tipos distintos, para isso devemos saber o tipo de cada uma, para isso, podemos usar o comando 'type()'."
      ],
      "metadata": {
        "id": "qRzNuBFunNq2"
      }
    },
    {
      "cell_type": "code",
      "source": [
        "String = str('Olá')\n",
        "Int = int(10)\n",
        "Flutuante = float(1.0)\n",
        "Complexo = complex(1j)\n",
        "Lista = list(['loja', 'loja2'])\n",
        "Tupla = tuple(('A', 'B'))\n",
        "Dicionário = dict({Nome:'Pedro'})\n",
        "Range = range(6)\n",
        "Set = set(('A', 'B', 'C'))\n",
        "Frozset = frozenset(('A', 'B'))\n",
        "Boleano = bool(5)\n",
        "Byte = bytes(5)\n",
        "ByteArray = bytearray(5)\n",
        "Memoryview = memoryview( Byte )\n",
        "\n",
        "from datetime import datetime\n",
        "Data = datetime.today().date\n",
        "print(Memoryview)"
      ],
      "metadata": {
        "id": "ZWkw-nywptj5"
      },
      "execution_count": null,
      "outputs": []
    },
    {
      "cell_type": "markdown",
      "source": [
        "# Imprecisão dos pontos flutuantes\n",
        "Double-precision floating-point format IEEE - 754\n",
        "\n",
        "Podemos tratá-las com:\n",
        "- f'{var:.2f}': Método format.\n",
        "- round(var, nº): É uma função que arredonda números e casas decimais.\n",
        "- import decimal: Módulo que trata nº decimais[geralmente grandes nºs]. usamos o método 'decimal.Decimal('nº')'."
      ],
      "metadata": {
        "id": "SD-xbqGSs1Ty"
      }
    },
    {
      "cell_type": "code",
      "source": [
        "numero1 = 0.1\n",
        "numero2 = 0.6\n",
        "numero3 = numero1 + numero2\n",
        "print(f'{numero3:.2f}')# Método 1\n",
        "print(round(numero3, 3))# A função round() arredonda números e casas decimais\n",
        "\n",
        "import decimal# Para números muito grandes\n",
        "numero1 = decimal.Decimal('0.1')\n",
        "numero2 = decimal.Decimal('0.6')\n",
        "numero3 = numero1 + numero2\n",
        "print(numero3)\n"
      ],
      "metadata": {
        "id": "paASdfKztCaS"
      },
      "execution_count": null,
      "outputs": []
    },
    {
      "cell_type": "markdown",
      "source": [
        "# split, join e strip - métodos muito úteis da str\n",
        "- split() - Divide a string, separando-a em espaços;\n",
        "- Join() - une uma string.\n",
        "\n",
        "Obs.: Podemos passar um caracter divisor dentro do split, ou seja, onde o caracter estiver ocorrerá a divisão\n",
        "\n",
        "- strip() - Corta os espaço do começo e do fim. Podemos tbm usar 'rstrip()' para cortar a direita e 'lstrip()' para a esquerda."
      ],
      "metadata": {
        "id": "YfcJTw2UvTOE"
      }
    },
    {
      "cell_type": "code",
      "source": [
        "frase = 'Olha que, coisa bonita'\n",
        "lista_palavras = frase.split(', ')\n",
        "print(frase)\n",
        "print(lista_palavras)\n",
        "\n",
        "# Para dividir mais precisamente\n",
        "for i, frase in enumerate(lista_palavras):\n",
        "  print('Com for:', lista_palavras[i])\n",
        "\n",
        "espaco = ' Apenas um exemplo para usar o strip. '\n",
        "print('Sem strip:', espaco)\n",
        "print('Com strip:', espaco.strip())\n",
        "\n",
        "# Com boas práticas\n",
        "frase2 = 'Mais cheia de graça, é essa menina.'\n",
        "lista_frase_crua = frase2.split(',')\n",
        "lista_frase = []\n",
        "for i, frase in enumerate(lista_frase_crua):\n",
        "  lista_frase.append(lista_frase_crua[i])\n",
        "print(lista_frase)\n",
        "\n",
        "# Join - Unindo frases: Usamos o ('-') caracter entre aspas para unir as frase\n",
        "frase3 = 'O Brasil anda dividido,um em cada ponta.'\n",
        "frases_unidas = '-'.join(frase3.split(','))\n",
        "print('Join:', frases_unidas)"
      ],
      "metadata": {
        "id": "I7OijtLCvla-"
      },
      "execution_count": null,
      "outputs": []
    },
    {
      "cell_type": "markdown",
      "source": [
        "# Interpretador do python\n",
        "- python mod.py (executa o módulo)\n",
        "- python -u (unbuffered)\n",
        "- python -m mod (lib mod como script)\n",
        "- python -c 'cmd' (comand)\n",
        "- python -i mod.py (comand interative)\n",
        "- python --help (ajuda/comandos)\n",
        "\n",
        "# The Zen of Python - Tim Peters (import this)\n",
        "- Bonito é melhor que feio.\n",
        "- Explícito é melhor que implícito.\n",
        "- Simples é melhor que complexo.\n",
        "- Complexo é melhor que complicado.\n",
        "- Plano é melhor que aninhado (vários).\n",
        "- Esparso(dividido) é melhor que denso.\n",
        "- A legibilidade conta.\n",
        "- Casos especiais não são especiais o suficiente para quebrar as regras.\n",
        "- Embora a praticidade supere a pureza.\n",
        "- Os erros nunca devem passar silenciosamente. A menos que seja explicitamente silenciado (try).\n",
        "- Diante da ambiguidade, recuse a tentação de adivinhar.\n",
        "- Deveria haver uma - e de preferência apenas uma - maneira óbvia de fazer isso. Embora essa forma possa não ser óbvia à primeira vista, a menos que você seja holandês.\n",
        "- Agora é melhor do que nunca.\n",
        "Embora nunca seja melhor do que *agora*.\n",
        "- Se a implementação for difícil de explicar, é uma má ideia.\n",
        "- Se a implementação for fácil de explicar, pode ser uma boa ideia.\n",
        "- Namespaces são uma ótima ideia - vamos fazer mais deles!\n"
      ],
      "metadata": {
        "id": "z_bY0iA9drS9"
      }
    },
    {
      "cell_type": "code",
      "source": [
        "# Desempacotamento nas chamadas de métodos e funções\n",
        "string = 'ABCD'\n",
        "lista = ['Maria', 'Helena', 1, 2, 3, 'Eduarda']\n",
        "tupla = 'Python', 'é', 'legal'\n",
        "\n",
        "# pri, b, *_ , ult = lista\n",
        "# print(pri, ult)\n",
        "\n",
        "# for nome in lista:\n",
        "#   print(nome, end='', sep='')\n",
        "\n",
        "print(*lista, sep='\\n') # vários argumentos de uma vez"
      ],
      "metadata": {
        "colab": {
          "base_uri": "https://localhost:8080/"
        },
        "id": "m7qmHdVbguMU",
        "outputId": "bb51953a-a041-4e2d-a4d5-90f60f4ac49d"
      },
      "execution_count": null,
      "outputs": [
        {
          "output_type": "stream",
          "name": "stdout",
          "text": [
            "Maria\n",
            "Helena\n",
            "1\n",
            "2\n",
            "3\n",
            "Eduarda\n"
          ]
        }
      ]
    },
    {
      "cell_type": "code",
      "source": [
        "\"\"\" Operação ternária:\n",
        "<valor> if <condicao> else <outro_valor>\"\"\"\n",
        "condicao = 10 == 10\n",
        "variavel = 'Valor' if True else 'Outro valor'\n",
        "print(variavel)\n",
        "\n",
        "digito = 9\n",
        "nv_digito = digito if digito <= 9 else 0\n",
        "print(nv_digito)\n",
        "\n",
        "# Não é legal, mas é possível...\n",
        "print('Valor' if True else 'Outro valor' if True else 'Fim')\n",
        "\n"
      ],
      "metadata": {
        "colab": {
          "base_uri": "https://localhost:8080/"
        },
        "id": "98Y1zQ2AiTmG",
        "outputId": "06dbf81c-f90d-4fe9-b9ae-1e949f6959c6"
      },
      "execution_count": null,
      "outputs": [
        {
          "output_type": "stream",
          "name": "stdout",
          "text": [
            "Valor\n",
            "9\n"
          ]
        }
      ]
    }
  ]
}